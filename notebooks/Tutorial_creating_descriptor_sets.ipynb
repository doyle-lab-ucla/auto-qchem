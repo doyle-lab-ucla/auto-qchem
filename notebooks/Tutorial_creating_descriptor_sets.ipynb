{
 "cells": [
  {
   "cell_type": "markdown",
   "metadata": {},
   "source": [
    "### Startup imports"
   ]
  },
  {
   "cell_type": "code",
   "execution_count": 1,
   "metadata": {},
   "outputs": [],
   "source": [
    "import pandas as pd\n",
    "\n",
    "from autoqchem.molecule import molecule\n",
    "from autoqchem.slurm_manager import slurm_manager\n",
    "from autoqchem.sge_manager import sge_manager\n",
    "from autoqchem.helper_classes import slurm_status,sge_status\n",
    "from autoqchem.draw_utils import draw\n",
    "\n",
    "import logging\n",
    "logging.basicConfig(level=logging.INFO)"
   ]
  },
  {
   "cell_type": "markdown",
   "metadata": {},
   "source": [
    "### Initialize the job manager\n",
    "\n",
    "The job manager is going to manage what jobs you have currently running or waiting to run. It caches your information, so you can kill the notebook, turn-off your computer, or go on vacation, and still pick it up later. It will remember which jobs you haven't retrieved from the cluster, etc.\n",
    "\n",
    "Use the ```slurm``` manager for running jobs on ```della``` at Princeton and the ```sge``` manager for running jobs on ```hoffman2``` at UCLA.\n",
    "\n",
    "Note: it won't ask you to login unless you execute a method that requires remote access."
   ]
  },
  {
   "cell_type": "code",
   "execution_count": 2,
   "metadata": {},
   "outputs": [],
   "source": [
    "#sm=slurm_manager(user='zuranski', host='della.princeton.edu')\n",
    "sm=sge_manager(user='wgee', host='hoffman2.idre.ucla.edu')"
   ]
  },
  {
   "cell_type": "markdown",
   "metadata": {},
   "source": [
    "### Provide some SMILES string(s)\n",
    "\n",
    "The ```my_smiles``` variable is a list of strings (a Python list can be of any size)"
   ]
  },
  {
   "cell_type": "code",
   "execution_count": 31,
   "metadata": {},
   "outputs": [],
   "source": [
    "my_smiles=[\n",
    "    \"C(C1C(C(C(C(O1)O)O)O)O)O\",\n",
    "    \"c1ccc(Br)cc1\",\n",
    "]"
   ]
  },
  {
   "cell_type": "markdown",
   "metadata": {},
   "source": [
    "For a list of SMILES, you can also read them from a csv file, assuming that the filename is ```smiles_strings.csv```, the strings are in the first column, and there are no headers"
   ]
  },
  {
   "cell_type": "code",
   "execution_count": 7,
   "metadata": {},
   "outputs": [],
   "source": [
    "# my_smiles = pd.read_csv(\"smiles_strings.csv\", header=None, usecols=[0])[0].tolist()\n",
    "# my_smiles"
   ]
  },
  {
   "cell_type": "markdown",
   "metadata": {},
   "source": [
    "### Initialize the molecules and generate conformations\n",
    "\n",
    "We will make 3D conformations for every SMILES string using a ```for``` loop"
   ]
  },
  {
   "cell_type": "code",
   "execution_count": 32,
   "metadata": {},
   "outputs": [],
   "source": [
    "mols = []\n",
    "for smile in my_smiles:\n",
    "    mols.append(molecule(smile, num_conf=10))"
   ]
  },
  {
   "cell_type": "markdown",
   "metadata": {},
   "source": [
    "Draw some molecules"
   ]
  },
  {
   "cell_type": "code",
   "execution_count": 33,
   "metadata": {},
   "outputs": [
    {
     "data": {
      "application/vnd.jupyter.widget-view+json": {
       "model_id": "a6de5d09b5224ef7907bd23ae6c9978a",
       "version_major": 2,
       "version_minor": 0
      },
      "text/plain": [
       "interactive(children=(Dropdown(description='confId', options=(0, 1, 2, 3, 4, 5, 6, 7, 8, 9), value=0), Output(…"
      ]
     },
     "metadata": {},
     "output_type": "display_data"
    },
    {
     "data": {
      "application/vnd.jupyter.widget-view+json": {
       "model_id": "9c8b79b83d4843a9ac26a9eb714e290b",
       "version_major": 2,
       "version_minor": 0
      },
      "text/plain": [
       "interactive(children=(Dropdown(description='confId', options=(0,), value=0), Output()), _dom_classes=('widget-…"
      ]
     },
     "metadata": {},
     "output_type": "display_data"
    },
    {
     "data": {
      "text/plain": [
       "<function autoqchem.draw_utils._graph_conf(m, confId=0, energies=[])>"
      ]
     },
     "execution_count": 33,
     "metadata": {},
     "output_type": "execute_result"
    }
   ],
   "source": [
    "draw(mols[0].mol)\n",
    "draw(mols[1].mol)"
   ]
  },
  {
   "cell_type": "markdown",
   "metadata": {},
   "source": [
    "### Create Gaussian jobs for each conformation\n",
    "\n",
    "Select settings such as the functional, basis set, and solvent"
   ]
  },
  {
   "cell_type": "code",
   "execution_count": 35,
   "metadata": {},
   "outputs": [
    {
     "name": "stderr",
     "output_type": "stream",
     "text": [
      "INFO:autoqchem.gaussian_input_generator:Generating Gaussian input files for 10 conformations.\n"
     ]
    }
   ],
   "source": [
    "for mol in mols[0:2]:\n",
    "    sm.create_jobs_for_molecule(mol, theory=\"B3LYP\", light_basis_set='6-31G**', solvent='methanol')"
   ]
  },
  {
   "cell_type": "markdown",
   "metadata": {},
   "source": [
    "### View the status of all jobs in the workflow\n"
   ]
  },
  {
   "cell_type": "code",
   "execution_count": 37,
   "metadata": {},
   "outputs": [
    {
     "data": {
      "text/html": [
       "<div>\n",
       "<style scoped>\n",
       "    .dataframe tbody tr th:only-of-type {\n",
       "        vertical-align: middle;\n",
       "    }\n",
       "\n",
       "    .dataframe tbody tr th {\n",
       "        vertical-align: top;\n",
       "    }\n",
       "\n",
       "    .dataframe thead th {\n",
       "        text-align: right;\n",
       "    }\n",
       "</style>\n",
       "<table border=\"1\" class=\"dataframe\">\n",
       "  <thead>\n",
       "    <tr style=\"text-align: right;\">\n",
       "      <th>status</th>\n",
       "      <th>created</th>\n",
       "    </tr>\n",
       "    <tr>\n",
       "      <th>can</th>\n",
       "      <th></th>\n",
       "    </tr>\n",
       "  </thead>\n",
       "  <tbody>\n",
       "    <tr>\n",
       "      <th>C(C1C(C(C(C(O1)O)O)O)O)O</th>\n",
       "      <td>10</td>\n",
       "    </tr>\n",
       "  </tbody>\n",
       "</table>\n",
       "</div>"
      ],
      "text/plain": [
       "status                    created\n",
       "can                              \n",
       "C(C1C(C(C(C(O1)O)O)O)O)O       10"
      ]
     },
     "execution_count": 37,
     "metadata": {},
     "output_type": "execute_result"
    }
   ],
   "source": [
    "sm.get_job_stats(split_by_can=True)"
   ]
  },
  {
   "cell_type": "markdown",
   "metadata": {},
   "source": [
    "### Submit the jobs to the server \n",
    "\n",
    "If you are not connected, it will ask for password + Duo (`della`) or password (`hoffman2`)"
   ]
  },
  {
   "cell_type": "code",
   "execution_count": 38,
   "metadata": {
    "scrolled": true
   },
   "outputs": [
    {
     "name": "stderr",
     "output_type": "stream",
     "text": [
      "INFO:autoqchem.sge_manager:Submitting 10 jobs.\n",
      "INFO:autoqchem.sge_manager:Creating connection to hoffman2.idre.ucla.edu as wgee\n",
      "INFO:paramiko.transport:Connected (version 2.0, client OpenSSH_7.4)\n",
      "INFO:paramiko.transport:Authentication (password) successful!\n",
      "INFO:autoqchem.sge_manager:Connected to hoffman2.idre.ucla.edu as wgee.\n",
      "INFO:paramiko.transport.sftp:[chan 1] Opened sftp connection (server version 3)\n",
      "INFO:autoqchem.sge_manager:Submitted job f3acd84ad1cddc42b1c76dcdb37d544d, job_id: 7357811.\n",
      "INFO:autoqchem.sge_manager:Submitted job 6a4a352e2a9423622ee71ddd8cf0979b, job_id: 7357815.\n",
      "INFO:autoqchem.sge_manager:Submitted job 79f17c43b84edcdadd9132a09fffea3b, job_id: 7357819.\n",
      "INFO:autoqchem.sge_manager:Submitted job c936e56c7d5c54d289a4db58f8344055, job_id: 7357824.\n",
      "INFO:autoqchem.sge_manager:Submitted job ba77b2860aaf978eeebdc6ada1e94811, job_id: 7357828.\n",
      "INFO:autoqchem.sge_manager:Submitted job 7176e2d87aacfcc39234439d331d614e, job_id: 7357833.\n",
      "INFO:autoqchem.sge_manager:Submitted job 973beba512bda8a0bfaa45213ff1fa5d, job_id: 7357836.\n",
      "INFO:autoqchem.sge_manager:Submitted job e64a36004776491b80914b89c30bfc8e, job_id: 7357841.\n",
      "INFO:autoqchem.sge_manager:Submitted job 176edb8acf0367b53fd1ff103aa7883d, job_id: 7357846.\n",
      "INFO:autoqchem.sge_manager:Submitted job c73e4110aee9ddac83abd14ae71caf25, job_id: 7357850.\n"
     ]
    }
   ],
   "source": [
    "sm.submit_jobs()"
   ]
  },
  {
   "cell_type": "markdown",
   "metadata": {},
   "source": [
    "Check the status of the jobs on the server"
   ]
  },
  {
   "cell_type": "code",
   "execution_count": 39,
   "metadata": {},
   "outputs": [
    {
     "name": "stdout",
     "output_type": "stream",
     "text": [
      "job-ID     prior   name       user         state submit/start at     queue                          jclass                         slots ja-task-ID \n",
      "------------------------------------------------------------------------------------------------------------------------------------------------\n",
      "   7357811 0.50500 WQZGKKKJIJ wgee         r     05/19/2023 11:23:23 pod_ib100_apollo2.q@n6676                                         4        \n",
      "   7357815 0.50500 WQZGKKKJIJ wgee         r     05/19/2023 11:23:23 pod_ib100_apollo2.q@n6676                                         4        \n",
      "   7357819 0.50500 WQZGKKKJIJ wgee         r     05/19/2023 11:23:30 pod_apollo_6140.q@n6643                                           4        \n",
      "   7357824 0.50500 WQZGKKKJIJ wgee         r     05/19/2023 11:23:30 pod_apollo_6140.q@n7672                                           4        \n",
      "   7357828 0.50500 WQZGKKKJIJ wgee         r     05/19/2023 11:23:30 pod_apollo_6140.q@n7670                                           4        \n",
      "   7357833 0.50500 WQZGKKKJIJ wgee         r     05/19/2023 11:23:38 pod_ib100_apollo3.q@n7661                                         4        \n",
      "   7357836 0.50500 WQZGKKKJIJ wgee         r     05/19/2023 11:23:38 pod_ib100_apollo3.q@n7672                                         4        \n",
      "   7357841 0.50500 WQZGKKKJIJ wgee         r     05/19/2023 11:23:38 pod_ib100_apollo3.q@n7670                                         4        \n",
      "   7357846 0.50500 WQZGKKKJIJ wgee         r     05/19/2023 11:23:45 pod_ib100_apollo5.q@n1841                                         4        \n",
      "   7357850 0.50500 WQZGKKKJIJ wgee         r     05/19/2023 11:23:45 pod_ib100_apollo5.q@n1839                                         4        \n"
     ]
    }
   ],
   "source": [
    "#sm.squeue(summary=False)   # with slurm on `della`\n",
    "sm.qstat(summary=False)     # with sge on `hoffman2`"
   ]
  },
  {
   "cell_type": "markdown",
   "metadata": {},
   "source": [
    "Alternatively, view summary of job status on the server\n",
    "(may take a bit longer for many jobs as asks server about each separately)"
   ]
  },
  {
   "cell_type": "code",
   "execution_count": 40,
   "metadata": {},
   "outputs": [
    {
     "data": {
      "text/html": [
       "<div>\n",
       "<style scoped>\n",
       "    .dataframe tbody tr th:only-of-type {\n",
       "        vertical-align: middle;\n",
       "    }\n",
       "\n",
       "    .dataframe tbody tr th {\n",
       "        vertical-align: top;\n",
       "    }\n",
       "\n",
       "    .dataframe thead th {\n",
       "        text-align: right;\n",
       "    }\n",
       "</style>\n",
       "<table border=\"1\" class=\"dataframe\">\n",
       "  <thead>\n",
       "    <tr style=\"text-align: right;\">\n",
       "      <th></th>\n",
       "      <th>Count</th>\n",
       "    </tr>\n",
       "  </thead>\n",
       "  <tbody>\n",
       "    <tr>\n",
       "      <th>running</th>\n",
       "      <td>10</td>\n",
       "    </tr>\n",
       "    <tr>\n",
       "      <th>queued</th>\n",
       "      <td>0</td>\n",
       "    </tr>\n",
       "  </tbody>\n",
       "</table>\n",
       "</div>"
      ],
      "text/plain": [
       "         Count\n",
       "running     10\n",
       "queued       0"
      ]
     },
     "execution_count": 40,
     "metadata": {},
     "output_type": "execute_result"
    }
   ],
   "source": [
    "#sm.squeue(summary=True)    # with slurm on `della`\n",
    "sm.qstat(summary=True)      # with sge on `hoffman2`"
   ]
  },
  {
   "cell_type": "markdown",
   "metadata": {},
   "source": [
    "### Check workflow status at any time\n"
   ]
  },
  {
   "cell_type": "code",
   "execution_count": 3,
   "metadata": {},
   "outputs": [
    {
     "data": {
      "text/html": [
       "<div>\n",
       "<style scoped>\n",
       "    .dataframe tbody tr th:only-of-type {\n",
       "        vertical-align: middle;\n",
       "    }\n",
       "\n",
       "    .dataframe tbody tr th {\n",
       "        vertical-align: top;\n",
       "    }\n",
       "\n",
       "    .dataframe thead th {\n",
       "        text-align: right;\n",
       "    }\n",
       "</style>\n",
       "<table border=\"1\" class=\"dataframe\">\n",
       "  <thead>\n",
       "    <tr style=\"text-align: right;\">\n",
       "      <th>status</th>\n",
       "      <th>submitted</th>\n",
       "    </tr>\n",
       "    <tr>\n",
       "      <th>can</th>\n",
       "      <th></th>\n",
       "    </tr>\n",
       "  </thead>\n",
       "  <tbody>\n",
       "    <tr>\n",
       "      <th>C(C1C(C(C(C(O1)O)O)O)O)O</th>\n",
       "      <td>10</td>\n",
       "    </tr>\n",
       "  </tbody>\n",
       "</table>\n",
       "</div>"
      ],
      "text/plain": [
       "status                    submitted\n",
       "can                                \n",
       "C(C1C(C(C(C(O1)O)O)O)O)O         10"
      ]
     },
     "execution_count": 3,
     "metadata": {},
     "output_type": "execute_result"
    }
   ],
   "source": [
    "sm.get_job_stats(split_by_can=True)"
   ]
  },
  {
   "cell_type": "markdown",
   "metadata": {},
   "source": [
    "### Retrieve jobs\n",
    "\n",
    "If there are some finished jobs, the log files will be checked for completion and downloaded locally."
   ]
  },
  {
   "cell_type": "code",
   "execution_count": 4,
   "metadata": {},
   "outputs": [
    {
     "name": "stderr",
     "output_type": "stream",
     "text": [
      "INFO:autoqchem.sge_manager:Creating connection to hoffman2.idre.ucla.edu as wgee\n",
      "INFO:paramiko.transport:Connected (version 2.0, client OpenSSH_7.4)\n",
      "INFO:paramiko.transport:Authentication (password) successful!\n",
      "INFO:autoqchem.sge_manager:Connected to hoffman2.idre.ucla.edu as wgee.\n",
      "INFO:autoqchem.sge_manager:There are 0 running/pending jobs, 10 finished jobs.\n",
      "INFO:autoqchem.sge_manager:Retrieving log files of finished jobs.\n",
      "INFO:paramiko.transport.sftp:[chan 2] Opened sftp connection (server version 3)\n",
      "INFO:autoqchem.sge_manager:10 jobs finished successfully (all Gaussian steps finished normally). 0 jobs failed.\n"
     ]
    }
   ],
   "source": [
    "sm.retrieve_jobs()"
   ]
  },
  {
   "cell_type": "markdown",
   "metadata": {},
   "source": [
    "### Resubmit incomplete jobs"
   ]
  },
  {
   "cell_type": "code",
   "execution_count": 5,
   "metadata": {},
   "outputs": [
    {
     "name": "stderr",
     "output_type": "stream",
     "text": [
      "INFO:autoqchem.sge_manager:There are no incomplete jobs to resubmit.\n"
     ]
    }
   ],
   "source": [
    "sm.resubmit_incomplete_jobs()"
   ]
  },
  {
   "cell_type": "markdown",
   "metadata": {},
   "source": [
    "### Upload molecules to the database"
   ]
  },
  {
   "cell_type": "code",
   "execution_count": 6,
   "metadata": {},
   "outputs": [
    {
     "name": "stderr",
     "output_type": "stream",
     "text": [
      "INFO:autoqchem.sge_manager:There are 1 finished molecules ['C(C1C(C(C(C(O1)O)O)O)O)O'].\n",
      "INFO:autoqchem.sge_manager:Molecule C(C1C(C(C(C(O1)O)O)O)O)O has 0 / 10 duplicate conformers.\n",
      "INFO:autoqchem.sge_manager:Removing 0 / 10 jobs and log files that contain duplicate conformers.\n",
      "INFO:autoqchem.sge_manager:Uploaded descriptors to DB for smiles: C(C1C(C(C(C(O1)O)O)O)O)O, number of conformers: 10, DB molecule id 6467cfbfded247f07276fe3c.\n"
     ]
    }
   ],
   "source": [
    "sm.upload_done_molecules_to_db(tags=[\"test_WCG\"])"
   ]
  },
  {
   "cell_type": "markdown",
   "metadata": {},
   "source": [
    "You can now find the computed descriptors for your molecules at https://autoqchem.org/."
   ]
  },
  {
   "cell_type": "markdown",
   "metadata": {},
   "source": [
    "## Other helpful commands"
   ]
  },
  {
   "cell_type": "markdown",
   "metadata": {},
   "source": [
    "### Remove molecules from job manager\n",
    "\n",
    "Useful if need to redo a molecule with same Gaussian configuration before uploading to database"
   ]
  },
  {
   "cell_type": "code",
   "execution_count": 26,
   "metadata": {},
   "outputs": [],
   "source": [
    "sm.remove_jobs(sm.get_jobs(can=\"C(C1C(C(C(C(O1)O)O)O)O)O\"))"
   ]
  },
  {
   "cell_type": "markdown",
   "metadata": {},
   "source": [
    "### Cancel all running/queued jobs\n",
    "\n",
    "Beware that all of a user's jobs will be canceled (including jobs submitted independently of Auto-QChem)"
   ]
  },
  {
   "cell_type": "code",
   "execution_count": 23,
   "metadata": {},
   "outputs": [
    {
     "name": "stdout",
     "output_type": "stream",
     "text": [
      "wgee has registered the job 7357214 for deletion\n",
      "wgee has registered the job 7357215 for deletion\n",
      "wgee has registered the job 7357217 for deletion\n",
      "wgee has registered the job 7357218 for deletion\n",
      "wgee has registered the job 7357219 for deletion\n",
      "wgee has registered the job 7357220 for deletion\n",
      "wgee has registered the job 7357221 for deletion\n",
      "wgee has registered the job 7357222 for deletion\n",
      "wgee has registered the job 7357290 for deletion\n",
      "wgee has registered the job 7357291 for deletion\n",
      "wgee has registered the job 7357292 for deletion\n",
      "wgee has registered the job 7357293 for deletion\n",
      "wgee has registered the job 7357294 for deletion\n",
      "wgee has registered the job 7357295 for deletion\n",
      "wgee has registered the job 7357296 for deletion\n",
      "wgee has registered the job 7357297 for deletion\n",
      "wgee has registered the job 7357298 for deletion\n",
      "wgee has registered the job 7357299 for deletion\n"
     ]
    }
   ],
   "source": [
    "#sm._scancel()   # with slurm on `della`\n",
    "sm._qdel()      # with sge on `hoffman2`"
   ]
  },
  {
   "cell_type": "code",
   "execution_count": null,
   "metadata": {},
   "outputs": [],
   "source": []
  }
 ],
 "metadata": {
  "kernelspec": {
   "display_name": "Python 3.7.12 ('autoqchem')",
   "language": "python",
   "name": "python3"
  },
  "language_info": {
   "codemirror_mode": {
    "name": "ipython",
    "version": 3
   },
   "file_extension": ".py",
   "mimetype": "text/x-python",
   "name": "python",
   "nbconvert_exporter": "python",
   "pygments_lexer": "ipython3",
   "version": "3.7.12"
  },
  "vscode": {
   "interpreter": {
    "hash": "684abc938bfc2add5f36d7d052a0aef4b60f3eff60006b82ce647595b8c2f083"
   }
  }
 },
 "nbformat": 4,
 "nbformat_minor": 4
}
